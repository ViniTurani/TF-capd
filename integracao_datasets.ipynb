{
 "cells": [
  {
   "cell_type": "code",
   "execution_count": 1,
   "metadata": {},
   "outputs": [
    {
     "ename": "",
     "evalue": "",
     "output_type": "error",
     "traceback": [
      "\u001b[1;31mThe Kernel crashed while executing code in the current cell or a previous cell. \n",
      "\u001b[1;31mPlease review the code in the cell(s) to identify a possible cause of the failure. \n",
      "\u001b[1;31mClick <a href='https://aka.ms/vscodeJupyterKernelCrash'>here</a> for more info. \n",
      "\u001b[1;31mView Jupyter <a href='command:jupyter.viewOutput'>log</a> for further details."
     ]
    }
   ],
   "source": [
    "import pandas as pd\n",
    "\n",
    "# Carregar os datasets\n",
    "dados_votos = pd.read_csv('data_cleaned_extrato-bancario.csv')\n",
    "dados_partidos = pd.read_csv('historico_presidentes_cleaned.csv')\n",
    "\n",
    "# Criar um DataFrame de mapeamento de candidatos para partidos\n",
    "candidato_partido_map = {\n",
    "    'CIRO_GOMES_QT_VOTOS_TOT': 'PDT',\n",
    "    'LULA_QT_VOTOS_TOT': 'PT',\n",
    "    'PADRE_KELMON_QT_VOTOS_TOT': 'PTB',\n",
    "    'SIMONE_TEBET_QT_VOTOS_TOT': 'MDB',\n",
    "    'VERA_QT_VOTOS_TOT': 'PSTU',\n",
    "    'SOFIA_MANZANO_QT_VOTOS_TOT': 'PCB',\n",
    "    'JAIR_BOLSONARO_QT_VOTOS_TOT': 'PL',\n",
    "    'CONSTITUINTE_EYMAEL_QT_VOTOS_TOT': 'DC',\n",
    "    'FELIPE_DAVILA_QT_VOTOS_TOT': 'NOVO',\n",
    "    'SORAYA_THRONICKE_QT_VOTOS_TOT': 'UNIÃO',\n",
    "    'LEO_PERICLES_QT_VOTOS_TOT': 'UP',\n",
    "    'NULO_QT_VOTOS_TOT': '#NULO#'\n",
    "}\n",
    "\n",
    "dados_partidos_melted = dados_partidos.melt(var_name='CANDIDATO', value_name='QT_VOTOS_TOT')\n",
    "dados_partidos_melted['SG_PARTIDO'] = dados_partidos_melted['CANDIDATO'].map(candidato_partido_map)\n",
    "\n",
    "# Realizar a junção com o dataset de votos\n",
    "df_integrado = pd.merge(dados_votos, dados_partidos_melted, on='SG_PARTIDO')\n",
    "\n",
    "# Exibir o DataFrame integrado\n",
    "print(df_integrado.head())\n",
    "\n",
    "\n"
   ]
  }
 ],
 "metadata": {
  "kernelspec": {
   "display_name": "aulas",
   "language": "python",
   "name": "python3"
  },
  "language_info": {
   "codemirror_mode": {
    "name": "ipython",
    "version": 3
   },
   "file_extension": ".py",
   "mimetype": "text/x-python",
   "name": "python",
   "nbconvert_exporter": "python",
   "pygments_lexer": "ipython3",
   "version": "3.12.0"
  }
 },
 "nbformat": 4,
 "nbformat_minor": 2
}

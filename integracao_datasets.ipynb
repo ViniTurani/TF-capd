{
 "cells": [
  {
   "cell_type": "code",
   "execution_count": null,
   "metadata": {},
   "outputs": [
    {
     "ename": "",
     "evalue": "",
     "output_type": "error",
     "traceback": [
      "\u001b[1;31mThe Kernel crashed while executing code in the current cell or a previous cell. \n",
      "\u001b[1;31mPlease review the code in the cell(s) to identify a possible cause of the failure. \n",
      "\u001b[1;31mClick <a href='https://aka.ms/vscodeJupyterKernelCrash'>here</a> for more info. \n",
      "\u001b[1;31mView Jupyter <a href='command:jupyter.viewOutput'>log</a> for further details."
     ]
    }
   ],
   "source": [
    "import pandas as pd\n",
    "\n",
    "# Load data\n",
    "extrato_bancario = pd.read_csv(\"data_cleaned_extrato-bancario.csv\")\n",
    "votos_partido = pd.read_csv(\"historico_presidentes_cleaned.csv\")\n",
    "\n",
    "# Remova as colunas indesejadas\n",
    "votos_partido = votos_partido.drop(columns=[\"QT_APTOS_TOT\", \"QT_VOTOS_TOTAL\"])\n",
    "\n",
    "# Calcule a soma dos votos por candidato\n",
    "soma_votos = votos_partido.sum().to_frame().T\n",
    "\n",
    "extrato_bancario = extrato_bancario.groupby(\"SG_PARTIDO\", as_index=False)[\n",
    "    \"VR_LANCAMENTO\"\n",
    "].sum()\n",
    "\n",
    "\n",
    "candidato_partido_map = {\n",
    "    \"CIRO_GOMES_QT_VOTOS_TOT\": \"PDT\",\n",
    "    \"LULA_QT_VOTOS_TOT\": \"PT\",\n",
    "    \"PADRE_KELMON_QT_VOTOS_TOT\": \"PTB\",\n",
    "    \"SIMONE_TEBET_QT_VOTOS_TOT\": \"MDB\",\n",
    "    \"VERA_QT_VOTOS_TOT\": \"PSTU\",\n",
    "    \"SOFIA_MANZANO_QT_VOTOS_TOT\": \"PCB\",\n",
    "    \"JAIR_BOLSONARO_QT_VOTOS_TOT\": \"PL\",\n",
    "    \"CONSTITUINTE_EYMAEL_QT_VOTOS_TOT\": \"DC\",\n",
    "    \"FELIPE_DAVILA_QT_VOTOS_TOT\": \"NOVO\",\n",
    "    \"SORAYA_THRONICKE_QT_VOTOS_TOT\": \"UNIÃO\",\n",
    "    \"LEO_PERICLES_QT_VOTOS_TOT\": \"UP\",\n",
    "    \"NULO_QT_VOTOS_TOT\": \"#NULO#\",\n",
    "}\n",
    "\n",
    "\n",
    "votos_partido_melted = soma_votos.melt(\n",
    "    var_name=\"CANDIDATO\", value_name=\"QT_VOTOS_TOT\"\n",
    ")\n",
    "votos_partido_melted[\"SG_PARTIDO\"] = votos_partido_melted[\"CANDIDATO\"].map(\n",
    "    candidato_partido_map\n",
    ")\n",
    "\n",
    "# Realizar a junção com o dataset de votos\n",
    "df_integrado = pd.merge(extrato_bancario, votos_partido_melted, on=\"SG_PARTIDO\")\n",
    "\n",
    "# Exibir o DataFrame integrado\n",
    "print(df_integrado.head())\n",
    "\n",
    "\n",
    "df_integrado.to_csv(\"final_integrated_data.csv\", index=False)\n"
   ]
  }
 ],
 "metadata": {
  "kernelspec": {
   "display_name": "aulas",
   "language": "python",
   "name": "python3"
  },
  "language_info": {
   "codemirror_mode": {
    "name": "ipython",
    "version": 3
   },
   "file_extension": ".py",
   "mimetype": "text/x-python",
   "name": "python",
   "nbconvert_exporter": "python",
   "pygments_lexer": "ipython3",
   "version": "3.12.0"
  }
 },
 "nbformat": 4,
 "nbformat_minor": 2
}
